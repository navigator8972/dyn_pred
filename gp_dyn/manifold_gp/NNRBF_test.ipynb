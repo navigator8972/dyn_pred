{
 "cells": [
  {
   "cell_type": "code",
   "execution_count": 1,
   "metadata": {},
   "outputs": [],
   "source": [
    "import gpflow\n",
    "import tensorflow as tf\n",
    "import numpy as np\n",
    "\n",
    "from gpflow import Parameterized, Param\n",
    "\n",
    "from gpflow.kernels import RBF"
   ]
  },
  {
   "cell_type": "code",
   "execution_count": 2,
   "metadata": {},
   "outputs": [],
   "source": [
    "def xavier(dim_in, dim_out):\n",
    "    return np.random.randn(dim_in, dim_out)*(2./(dim_in+dim_out))**0.5\n",
    "\n",
    "class NN(Parameterized):\n",
    "    def __init__(self, dims):\n",
    "        Parameterized.__init__(self)\n",
    "        self.dims = dims\n",
    "        for i, (dim_in, dim_out) in enumerate(zip(dims[:-1], dims[1:])):\n",
    "            setattr(self, 'W_{}'.format(i), Param(xavier(dim_in, dim_out)))\n",
    "            setattr(self, 'b_{}'.format(i), Param(np.zeros(dim_out)))\n",
    "\n",
    "    def forward(self, X):\n",
    "        if X is not None:\n",
    "            for i in range(len(self.dims) - 1):\n",
    "                W = getattr(self, 'W_{}'.format(i))\n",
    "                b = getattr(self, 'b_{}'.format(i))\n",
    "#                 print(i)\n",
    "#                 print(X.shape, W.shape)\n",
    "                X = tf.nn.tanh(tf.matmul(X, W) + b)\n",
    "            return X\n"
   ]
  },
  {
   "cell_type": "code",
   "execution_count": 3,
   "metadata": {},
   "outputs": [],
   "source": [
    "class NN_RBF(RBF):\n",
    "    def __init__(self, nn, *args, **kw):\n",
    "        RBF.__init__(self, *args, **kw)\n",
    "        self.nn = nn\n",
    "    \n",
    "    def scaled_square_dist(self, X, X2):\n",
    "#         print('calling from derived class!!!')\n",
    "        M = self.nn.forward(X)\n",
    "        M2 = self.nn.forward(X2)\n",
    "#         print(M.get_shape())\n",
    "        return super().scaled_square_dist(M, M2)\n",
    "#         return RBF.scaled_square_dist(self, X, X2)\n",
    "          "
   ]
  },
  {
   "cell_type": "code",
   "execution_count": 4,
   "metadata": {},
   "outputs": [],
   "source": [
    "from tensorflow.python.ops import variables\n",
    "\n",
    "net = NN([5, 8, 2])  # for 5D inputs and a 2D GP\n",
    "kern = NN_RBF(net, 5)\n",
    "\n",
    "train_data_x = np.random.randn(100, 5)\n",
    "train_data_y = np.random.randn(100, 1)\n",
    "\n",
    "\n"
   ]
  },
  {
   "cell_type": "code",
   "execution_count": 8,
   "metadata": {},
   "outputs": [
    {
     "name": "stdout",
     "output_type": "stream",
     "text": [
      "{'GPR/kern/variance': array(1.), 'GPR/kern/lengthscales': array(1.), 'GPR/kern/nn/b_1': array([0., 0.]), 'GPR/kern/nn/W_0': array([[-4.75919158e-01,  1.88486857e-01, -3.84147178e-02,\n",
      "         2.62720026e-01,  9.06124464e-01, -5.94537359e-01,\n",
      "         1.46138407e-01, -2.08862906e-01],\n",
      "       [ 3.51798937e-01,  3.66754050e-01,  1.52819541e-01,\n",
      "         5.76621505e-02, -1.24355239e-01, -1.29296224e-01,\n",
      "         9.73364549e-01, -1.25636947e-01],\n",
      "       [ 1.01263429e-03,  3.56751715e-02, -3.60008216e-01,\n",
      "        -1.43553584e-01,  1.52471062e-01, -1.08164789e-01,\n",
      "        -8.35118749e-01, -5.67854701e-01],\n",
      "       [-6.38571955e-01,  2.20556593e-01,  2.21126659e-02,\n",
      "         6.51005736e-01, -4.89658665e-01,  5.52800170e-02,\n",
      "        -3.14614542e-01, -2.86436014e-02],\n",
      "       [ 4.74934825e-02,  3.03534535e-01,  1.02455474e+00,\n",
      "         3.81645273e-01,  1.06951060e-01, -5.84495480e-01,\n",
      "        -1.13905403e+00,  1.74627356e-01]]), 'GPR/likelihood/variance': array(1.), 'GPR/kern/nn/b_0': array([0., 0., 0., 0., 0., 0., 0., 0.]), 'GPR/kern/nn/W_1': array([[ 0.49496467,  0.66845325],\n",
      "       [-0.98489551,  0.71205542],\n",
      "       [ 0.00585076, -0.2786744 ],\n",
      "       [ 0.06821561, -0.55689026],\n",
      "       [-0.25268059,  0.26817262],\n",
      "       [ 0.35354116, -0.15212405],\n",
      "       [-0.1388331 ,  0.12473134],\n",
      "       [ 0.61497331, -0.53796618]])}\n",
      "-148.67705690073137\n",
      "INFO:tensorflow:Optimization terminated with:\n",
      "  Message: b'STOP: TOTAL NO. of ITERATIONS EXCEEDS LIMIT'\n",
      "  Objective function value: 105.393682\n",
      "  Number of iterations: 1001\n",
      "  Number of functions evaluations: 1077\n",
      "{'GPR/kern/variance': array(1.21123222), 'GPR/kern/lengthscales': array(0.66095407), 'GPR/kern/nn/b_1': array([-4.96556114,  0.03946602]), 'GPR/kern/nn/W_0': array([[-0.95402709, -0.32615266, -1.59426673,  0.02133413,  1.6652592 ,\n",
      "         0.29040548, -0.91284578,  1.32143768],\n",
      "       [-1.2812724 ,  2.46498037,  0.36149772,  2.10171654, -1.21933426,\n",
      "        -1.73055958,  3.25101055, -0.29640736],\n",
      "       [-2.12137708,  1.07435896, -2.31651283, -1.46056563,  1.76509782,\n",
      "        -1.58808252,  0.71949359, -0.33789541],\n",
      "       [-1.92729191, -3.32790753,  0.46548103,  3.26793738, -5.26081981,\n",
      "         0.43129429, -1.83253954,  0.3466745 ],\n",
      "       [ 2.36303133,  2.81815294,  2.20614464, -0.86551344,  0.82989636,\n",
      "        -2.07728507, -2.45579922,  0.01045991]]), 'GPR/likelihood/variance': array(0.3798869), 'GPR/kern/nn/b_0': array([-3.47536983,  0.42644864,  1.18897407,  0.89175886, -0.29702217,\n",
      "        0.26991278,  1.93629116,  0.06946668]), 'GPR/kern/nn/W_1': array([[ 0.44625796,  5.89247227],\n",
      "       [-4.75524339,  3.77990328],\n",
      "       [-5.41314841,  2.10317411],\n",
      "       [ 1.8841587 , -1.80109728],\n",
      "       [-3.12817704,  3.602577  ],\n",
      "       [ 1.78652979, -2.13133198],\n",
      "       [ 1.06787505, -3.41024661],\n",
      "       [ 5.35457826, -0.7752789 ]])}\n",
      "-105.39368249297348\n"
     ]
    }
   ],
   "source": [
    "m = gpflow.models.GPR(train_data_x, train_data_y, kern=kern)\n",
    "m.compile()\n",
    "print(m.read_trainables())\n",
    "print(m.compute_log_likelihood())\n",
    "opt = gpflow.train.ScipyOptimizer()\n",
    "opt.minimize(m)\n",
    "# print(variables.trainable_variables())\n",
    "print(m.read_trainables())\n",
    "print(m.compute_log_likelihood())"
   ]
  },
  {
   "cell_type": "code",
   "execution_count": 7,
   "metadata": {},
   "outputs": [
    {
     "name": "stdout",
     "output_type": "stream",
     "text": [
      "[<tf.Variable 'NN-48ce325b-0/W_0/unconstrained:0' shape=(5, 8) dtype=float64_ref>, <tf.Variable 'NN-48ce325b-0/b_0/unconstrained:0' shape=(8,) dtype=float64_ref>, <tf.Variable 'NN-48ce325b-0/b_1/unconstrained:0' shape=(2,) dtype=float64_ref>, <tf.Variable 'NN-48ce325b-0/W_1/unconstrained:0' shape=(8, 2) dtype=float64_ref>, <tf.Variable 'NN_RBF-7ec9a3f1-5/lengthscales/unconstrained:0' shape=() dtype=float64_ref>, <tf.Variable 'NN_RBF-7ec9a3f1-5/variance/unconstrained:0' shape=() dtype=float64_ref>, <tf.Variable 'GPR-0603eec7-12/Y/dataholder:0' shape=<unknown> dtype=float64_ref>, <tf.Variable 'GPR-0603eec7-12/X/dataholder:0' shape=<unknown> dtype=float64_ref>, <tf.Variable 'GPR-0603eec7-12/likelihood/variance/unconstrained:0' shape=() dtype=float64_ref>]\n",
      "\n",
      "[<tf.Tensor 'gradients_1/GPR-0603eec7-12/likelihood_1/MatMul_1_grad/MatMul_1:0' shape=(8, 2) dtype=float64>]\n",
      "[[-0.35956263 -0.92269742]\n",
      " [-0.2451445   0.25261824]\n",
      " [-0.94166083  0.23038071]\n",
      " [ 0.54413949  0.83356337]\n",
      " [ 0.64446429  0.47906166]\n",
      " [-0.34187014 -0.42362172]\n",
      " [ 1.45803434 -0.69531582]\n",
      " [ 0.5433502  -0.16305328]]\n"
     ]
    }
   ],
   "source": [
    "with tf.Session() as sess:\n",
    "    m.initialize()\n",
    "    print(variables.global_variables())\n",
    "    print()\n",
    "#     print(m.X._dataholder_tensor)\n",
    "#     grads = tf.gradients(m._likelihood_tensor, variables.global_variables()[4])\n",
    "    grads = tf.gradients(m._likelihood_tensor, variables.global_variables()[3])\n",
    "    print(grads)\n",
    "    mygrads = grads[0].eval()\n",
    "    \n",
    "    print(mygrads)"
   ]
  },
  {
   "cell_type": "code",
   "execution_count": null,
   "metadata": {},
   "outputs": [],
   "source": []
  }
 ],
 "metadata": {
  "kernelspec": {
   "display_name": "Python 3",
   "language": "python",
   "name": "python3"
  },
  "language_info": {
   "codemirror_mode": {
    "name": "ipython",
    "version": 3
   },
   "file_extension": ".py",
   "mimetype": "text/x-python",
   "name": "python",
   "nbconvert_exporter": "python",
   "pygments_lexer": "ipython3",
   "version": "3.5.2"
  }
 },
 "nbformat": 4,
 "nbformat_minor": 2
}
